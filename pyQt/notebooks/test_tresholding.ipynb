{
 "cells": [
  {
   "cell_type": "code",
   "execution_count": 3,
   "metadata": {},
   "outputs": [],
   "source": [
    "import numpy as np\n",
    "from PIL import Image\n"
   ]
  },
  {
   "cell_type": "code",
   "execution_count": 2,
   "metadata": {},
   "outputs": [],
   "source": [
    "\n",
    "\n",
    "def threshold_image(img, T = 128, local = False, kernal= 4, k = 2):\n",
    "    if local:\n",
    "        binary_img = localthresholding(img, kernal, k)\n",
    "    else: \n",
    "        if T is None:\n",
    "            T = np.mean(img)\n",
    "        binary_img = globalthresholding(img, T)\n",
    "    \n",
    "    return binary_img\n",
    "\n",
    "def globalthresholding(image, T = 128):\n",
    "    binary_img  = (image > T).astype(np.uint8) * 255\n",
    "    return binary_img\n",
    "\n",
    "\n",
    "def localthresholding(image, kernal = 4, k = 2):\n",
    "    \"\"\"\n",
    "    Local thresholding using Niblack's method.\n",
    "    \"\"\"\n",
    "    #use odd kernal size\n",
    "    if kernal % 2 == 0:\n",
    "        kernal += 1\n",
    "    #handling borders\n",
    "    pad = kernal // 2\n",
    "    padded_image = np.pad(image, pad, mode='constant', constant_values=0) #may be needed to implemented on my own\n",
    "    \n",
    "    binary_img = np.zeros_like(image, dtype=np.uint8)\n",
    "    \n",
    "    for i in range(image.shape[0]):\n",
    "        for j in range(image.shape[1]):\n",
    "            neighbor = padded_image[i:i+kernal, j:j+kernal]\n",
    "            mean = np.mean(neighbor)\n",
    "            std = np.std(neighbor)    \n",
    "            \n",
    "            T = mean + k * std\n",
    "            if image[i,j] > T :\n",
    "                binary_img[i, j] = 255\n",
    "    return binary_img"
   ]
  },
  {
   "cell_type": "code",
   "execution_count": 7,
   "metadata": {},
   "outputs": [],
   "source": [
    "image = np.array(Image.open(\"../resources/dog.jpeg\").convert('L'))\n",
    "binary_image = threshold_image(image, local = True,kernal=11, k=-0.2)\n"
   ]
  },
  {
   "cell_type": "code",
   "execution_count": 8,
   "metadata": {},
   "outputs": [],
   "source": [
    "Image.fromarray(binary_image).save(\"local_thresholding_result.jpg\")\n"
   ]
  },
  {
   "cell_type": "code",
   "execution_count": null,
   "metadata": {},
   "outputs": [],
   "source": []
  }
 ],
 "metadata": {
  "kernelspec": {
   "display_name": "Python 3",
   "language": "python",
   "name": "python3"
  },
  "language_info": {
   "codemirror_mode": {
    "name": "ipython",
    "version": 3
   },
   "file_extension": ".py",
   "mimetype": "text/x-python",
   "name": "python",
   "nbconvert_exporter": "python",
   "pygments_lexer": "ipython3",
   "version": "3.12.2"
  }
 },
 "nbformat": 4,
 "nbformat_minor": 2
}
